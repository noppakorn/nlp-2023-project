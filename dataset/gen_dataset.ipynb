{
 "cells": [
  {
   "cell_type": "code",
   "execution_count": 1,
   "metadata": {},
   "outputs": [],
   "source": [
    "import pandas as pd\n",
    "import glob"
   ]
  },
  {
   "cell_type": "code",
   "execution_count": 2,
   "metadata": {},
   "outputs": [],
   "source": [
    "data_input = pd.read_csv(\"data2.csv\")\n",
    "data_input = data_input.rename({\"ProfId\": \"id\", \"Review\": \"text\"}, axis=1)\n",
    "data_input = data_input.set_index(\"id\")\n",
    "data_input = data_input.dropna()"
   ]
  },
  {
   "cell_type": "code",
   "execution_count": 3,
   "metadata": {},
   "outputs": [],
   "source": [
    "data_summary = pd.read_csv(\"combined.csv\")\n",
    "data_summary = data_summary.set_index(\"id\")"
   ]
  },
  {
   "cell_type": "code",
   "execution_count": 4,
   "metadata": {},
   "outputs": [],
   "source": [
    "df = data_input.groupby(\"id\").agg({\"text\": \"\\n\".join})"
   ]
  },
  {
   "cell_type": "code",
   "execution_count": 5,
   "metadata": {},
   "outputs": [],
   "source": [
    "df = df.join(data_summary, on=\"id\")\n",
    "df = df.dropna()"
   ]
  },
  {
   "cell_type": "code",
   "execution_count": 8,
   "metadata": {},
   "outputs": [
    {
     "data": {
      "text/html": [
       "<div>\n",
       "<style scoped>\n",
       "    .dataframe tbody tr th:only-of-type {\n",
       "        vertical-align: middle;\n",
       "    }\n",
       "\n",
       "    .dataframe tbody tr th {\n",
       "        vertical-align: top;\n",
       "    }\n",
       "\n",
       "    .dataframe thead th {\n",
       "        text-align: right;\n",
       "    }\n",
       "</style>\n",
       "<table border=\"1\" class=\"dataframe\">\n",
       "  <thead>\n",
       "    <tr style=\"text-align: right;\">\n",
       "      <th></th>\n",
       "      <th>text</th>\n",
       "      <th>summary</th>\n",
       "    </tr>\n",
       "    <tr>\n",
       "      <th>id</th>\n",
       "      <th></th>\n",
       "      <th></th>\n",
       "    </tr>\n",
       "  </thead>\n",
       "  <tbody>\n",
       "    <tr>\n",
       "      <th>3</th>\n",
       "      <td>Well... the subject of differentials &amp; linear ...</td>\n",
       "      <td>Pros:clear plans for the whole semester, cours...</td>\n",
       "    </tr>\n",
       "    <tr>\n",
       "      <th>15</th>\n",
       "      <td>I'm a math major and my GPA was solid 3.5+. bu...</td>\n",
       "      <td>Kubelka might be the worst professor that I ha...</td>\n",
       "    </tr>\n",
       "    <tr>\n",
       "      <th>18</th>\n",
       "      <td>Ty Lin seems like a great guy. Love his classe...</td>\n",
       "      <td>Terrible teacher. Lectures are slow and repeti...</td>\n",
       "    </tr>\n",
       "    <tr>\n",
       "      <th>29</th>\n",
       "      <td>love this guy\\nGreat person, but not the best ...</td>\n",
       "      <td>Great Professor! Would take him again. He is s...</td>\n",
       "    </tr>\n",
       "    <tr>\n",
       "      <th>45</th>\n",
       "      <td>I think everyone is being dramatic. He is kind...</td>\n",
       "      <td>He is a better professor than others would ind...</td>\n",
       "    </tr>\n",
       "    <tr>\n",
       "      <th>...</th>\n",
       "      <td>...</td>\n",
       "      <td>...</td>\n",
       "    </tr>\n",
       "    <tr>\n",
       "      <th>672</th>\n",
       "      <td>I dislike this guy. He is so boring. Dont take...</td>\n",
       "      <td>He is so boring. Doesn't return papers, grades...</td>\n",
       "    </tr>\n",
       "    <tr>\n",
       "      <th>673</th>\n",
       "      <td>I couldn't believe it was an honors class, it ...</td>\n",
       "      <td>He's very chill and laid back, although his vo...</td>\n",
       "    </tr>\n",
       "    <tr>\n",
       "      <th>679</th>\n",
       "      <td>Dr. Kirksy was one of the hardest teachers I h...</td>\n",
       "      <td>one of the hardest teachers I have ever had.  ...</td>\n",
       "    </tr>\n",
       "    <tr>\n",
       "      <th>680</th>\n",
       "      <td>He is a cool person, but as a professor, he is...</td>\n",
       "      <td>he is unorganized and can be hard to follow al...</td>\n",
       "    </tr>\n",
       "    <tr>\n",
       "      <th>681</th>\n",
       "      <td>Helen had a tough semester. Unfortunately I fe...</td>\n",
       "      <td>Extremely boring. The subject is tough and she...</td>\n",
       "    </tr>\n",
       "  </tbody>\n",
       "</table>\n",
       "<p>300 rows × 2 columns</p>\n",
       "</div>"
      ],
      "text/plain": [
       "                                                  text  \\\n",
       "id                                                       \n",
       "3    Well... the subject of differentials & linear ...   \n",
       "15   I'm a math major and my GPA was solid 3.5+. bu...   \n",
       "18   Ty Lin seems like a great guy. Love his classe...   \n",
       "29   love this guy\\nGreat person, but not the best ...   \n",
       "45   I think everyone is being dramatic. He is kind...   \n",
       "..                                                 ...   \n",
       "672  I dislike this guy. He is so boring. Dont take...   \n",
       "673  I couldn't believe it was an honors class, it ...   \n",
       "679  Dr. Kirksy was one of the hardest teachers I h...   \n",
       "680  He is a cool person, but as a professor, he is...   \n",
       "681  Helen had a tough semester. Unfortunately I fe...   \n",
       "\n",
       "                                               summary  \n",
       "id                                                      \n",
       "3    Pros:clear plans for the whole semester, cours...  \n",
       "15   Kubelka might be the worst professor that I ha...  \n",
       "18   Terrible teacher. Lectures are slow and repeti...  \n",
       "29   Great Professor! Would take him again. He is s...  \n",
       "45   He is a better professor than others would ind...  \n",
       "..                                                 ...  \n",
       "672  He is so boring. Doesn't return papers, grades...  \n",
       "673  He's very chill and laid back, although his vo...  \n",
       "679  one of the hardest teachers I have ever had.  ...  \n",
       "680  he is unorganized and can be hard to follow al...  \n",
       "681  Extremely boring. The subject is tough and she...  \n",
       "\n",
       "[300 rows x 2 columns]"
      ]
     },
     "execution_count": 8,
     "metadata": {},
     "output_type": "execute_result"
    }
   ],
   "source": [
    "df"
   ]
  },
  {
   "cell_type": "code",
   "execution_count": 6,
   "metadata": {},
   "outputs": [
    {
     "name": "stdout",
     "output_type": "stream",
     "text": [
      "1210\n",
      "44\n"
     ]
    }
   ],
   "source": [
    "lens = df.text.map(lambda x: len(x.split()))\n",
    "print(lens.max())\n",
    "print(lens.min())"
   ]
  },
  {
   "cell_type": "code",
   "execution_count": 7,
   "metadata": {},
   "outputs": [],
   "source": [
    "df.to_csv(\"summarized_dataset.csv\")"
   ]
  },
  {
   "cell_type": "code",
   "execution_count": null,
   "metadata": {},
   "outputs": [],
   "source": []
  }
 ],
 "metadata": {
  "kernelspec": {
   "display_name": "nlp-course",
   "language": "python",
   "name": "python3"
  },
  "language_info": {
   "codemirror_mode": {
    "name": "ipython",
    "version": 3
   },
   "file_extension": ".py",
   "mimetype": "text/x-python",
   "name": "python",
   "nbconvert_exporter": "python",
   "pygments_lexer": "ipython3",
   "version": "3.10.10"
  },
  "orig_nbformat": 4
 },
 "nbformat": 4,
 "nbformat_minor": 2
}
